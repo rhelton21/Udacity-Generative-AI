{
 "cells": [
  {
   "cell_type": "markdown",
   "id": "124e5672",
   "metadata": {},
   "source": [
    "# Custom Chatbot Project"
   ]
  },
  {
   "cell_type": "markdown",
   "id": "2a4a94b3",
   "metadata": {},
   "source": [
    "TODO: In this cell, write an explanation of which dataset you have chosen and why it is appropriate for this task\n",
    "For this project, I selected the character_descriptions.csv dataset, which contains fictional character descriptions from theater, television, and film productions. Each row includes details about a character, such as their name, description, medium (e.g., play, TV, film), and setting.\n",
    "\n",
    "This dataset is ideal for building a chatbot that can answer questions about fictional characters, help users discover new characters, or provide creative inspiration. The chatbot will use these descriptions to generate responses, making the dataset both relevant and engaging for this application."
   ]
  },
  {
   "cell_type": "markdown",
   "id": "a63d4c5f",
   "metadata": {},
   "source": [
    "## Data Wrangling\n",
    "\n",
    "TODO: In the cells below, load your chosen dataset into a `pandas` dataframe with a column named `\"text\"`. This column should contain all of your text data, separated into at least 20 rows."
   ]
  },
  {
   "cell_type": "code",
   "execution_count": 1,
   "id": "c69b83a1",
   "metadata": {},
   "outputs": [
    {
     "name": "stdout",
     "output_type": "stream",
     "text": [
      "[DEBUG] Listing available models...\n",
      "[DEBUG] Available models: ['gpt-4o-mini-2024-07-18', 'dall-e-2', 'text-embedding-ada-002', 'gpt-4o-mini', 'gpt-4-1106-preview', 'text-embedding-3-large', 'babbage-002', 'gpt-4o-2024-11-20', 'gpt-4-turbo-preview', 'o1-mini', 'davinci-002', 'o1-mini-2024-09-12', 'gpt-4-0125-preview', 'whisper-1', 'dall-e-3', 'gpt-4o', 'gpt-4o-2024-08-06', 'o1-preview', 'gpt-3.5-turbo-16k', 'o1-preview-2024-09-12', 'gpt-4o-realtime-preview', 'tts-1-hd-1106', 'gpt-4o-realtime-preview-2024-10-01', 'gpt-4', 'gpt-4-0613', 'gpt-4o-2024-05-13', 'gpt-3.5-turbo', 'gpt-3.5-turbo-0125', 'text-embedding-3-small', 'gpt-4-turbo', 'tts-1-hd', 'gpt-4-turbo-2024-04-09', 'gpt-3.5-turbo-1106', 'gpt-3.5-turbo-instruct', 'gpt-4o-audio-preview', 'gpt-4o-audio-preview-2024-10-01', 'tts-1', 'tts-1-1106', 'gpt-3.5-turbo-instruct-0914', 'chatgpt-4o-latest']\n",
      "[DEBUG] Valid Completion models: ['text-embedding-ada-002', 'babbage-002', 'davinci-002']\n",
      "[DEBUG] Selected default model: davinci-002\n"
     ]
    }
   ],
   "source": [
    "import openai\n",
    "import pandas as pd\n",
    "import traceback\n",
    "\n",
    "# Enhanced Debugging Function\n",
    "def debug_message(message):\n",
    "    print(f\"[DEBUG] {message}\")\n",
    "\n",
    "# Securely load the API key\n",
    "openai.api_key = \"\"\n",
    "\n",
    "# List available models and filter for valid Completion models\n",
    "try:\n",
    "    debug_message(\"Listing available models...\")\n",
    "    models = openai.Model.list()\n",
    "    available_models = [model['id'] for model in models['data']]\n",
    "    debug_message(f\"Available models: {available_models}\")\n",
    "\n",
    "    # Filter for valid Completion models\n",
    "    valid_completion_models = [\n",
    "        model for model in available_models\n",
    "        if any(keyword in model for keyword in [\"davinci\", \"curie\", \"babbage\", \"ada\"])\n",
    "    ]\n",
    "    debug_message(f\"Valid Completion models: {valid_completion_models}\")\n",
    "\n",
    "    # Prioritize the most capable model\n",
    "    priority_order = [\"text-davinci-003\", \"davinci\", \"curie\", \"babbage\", \"ada\"]\n",
    "    default_model = next(\n",
    "        (model for keyword in priority_order for model in valid_completion_models if keyword in model),\n",
    "        None\n",
    "    )\n",
    "    if not default_model:\n",
    "        raise RuntimeError(\"[CRITICAL] No valid Completion models available. Exiting.\")\n",
    "    debug_message(f\"Selected default model: {default_model}\")\n",
    "except Exception as e:\n",
    "    print(f\"[ERROR] Failed to list models or select a valid one: {traceback.format_exc()}\")\n",
    "    raise"
   ]
  },
  {
   "cell_type": "code",
   "execution_count": 2,
   "id": "0a595980",
   "metadata": {},
   "outputs": [
    {
     "name": "stdout",
     "output_type": "stream",
     "text": [
      "Dataset loaded successfully.\n",
      "Dataset preprocessed successfully. Rows: 55\n",
      "Dataset validation passed.\n",
      "Dataset text prepared for querying.\n",
      "                                                 text\n",
      "0   Name: Emily\\nDescription: A young woman in her...\n",
      "1   Name: Jack\\nDescription: A middle-aged man in ...\n",
      "2   Name: Alice\\nDescription: A woman in her late ...\n",
      "3   Name: Tom\\nDescription: A man in his 50s, Tom ...\n",
      "4   Name: Sarah\\nDescription: A woman in her mid-2...\n",
      "5   Name: George\\nDescription: A man in his early ...\n",
      "6   Name: Rachel\\nDescription: A woman in her late...\n",
      "7   Name: John\\nDescription: A man in his 60s, Joh...\n",
      "8   Name: Maria\\nDescription: A middle-aged Latina...\n",
      "9   Name: Caleb\\nDescription: A young African Amer...\n",
      "10  Name: Tyler\\nDescription: A white man in his m...\n",
      "11  Name: Sonya\\nDescription: A white woman in her...\n",
      "12  Name: Manuel\\nDescription: A middle-aged Hispa...\n",
      "13  Name: Will\\nDescription: A white man in his ea...\n",
      "14  Name: Mia\\nDescription: A young Australian wom...\n",
      "15  Name: Lucas\\nDescription: A middle-aged Austra...\n",
      "16  Name: Tahlia\\nDescription: A young Indigenous ...\n",
      "17  Name: Max\\nDescription: A white Australian man...\n",
      "18  Name: Ava\\nDescription: A middle-aged Australi...\n",
      "19  Name: Donna\\nDescription: A seasoned performer...\n"
     ]
    }
   ],
   "source": [
    "# Load dataset\n",
    "try:\n",
    "    dataset_path = './data/character_descriptions.csv'\n",
    "    df = pd.read_csv(dataset_path)\n",
    "    print(\"Dataset loaded successfully.\")\n",
    "except FileNotFoundError:\n",
    "    print(f\"[ERROR] Dataset file not found at {dataset_path}.\")\n",
    "    raise\n",
    "except Exception as e:\n",
    "    print(f\"[ERROR] Error loading dataset: {e}\")\n",
    "    raise\n",
    "\n",
    "# Preprocess dataset\n",
    "try:\n",
    "    df['text'] = (\n",
    "        \"Name: \" + df['Name'] + \"\\n\"\n",
    "        \"Description: \" + df['Description'] + \"\\n\"\n",
    "        \"Medium: \" + df['Medium'] + \"\\n\"\n",
    "        \"Setting: \" + df['Setting']\n",
    "    )\n",
    "    df_preprocessed = df[['text']]\n",
    "    print(f\"Dataset preprocessed successfully. Rows: {len(df_preprocessed)}\")\n",
    "except KeyError as e:\n",
    "    print(f\"[ERROR] Missing column: {e}\")\n",
    "    raise\n",
    "except Exception as e:\n",
    "    print(f\"[ERROR] Unexpected error during preprocessing: {e}\")\n",
    "    raise\n",
    "\n",
    "# Validate dataset\n",
    "try:\n",
    "    assert len(df_preprocessed) >= 20, \"Dataset must have at least 20 rows.\"\n",
    "    print(\"Dataset validation passed.\")\n",
    "except AssertionError as e:\n",
    "    print(f\"[ERROR] Dataset validation failed: {e}\")\n",
    "    raise\n",
    "\n",
    "# Prepare dataset text\n",
    "try:\n",
    "    dataset_text = \"\\n\\n\".join(df_preprocessed['text'].tolist())\n",
    "    print(\"Dataset text prepared for querying.\")\n",
    "except Exception as e:\n",
    "    print(f\"[ERROR] Error preparing dataset text: {e}\")\n",
    "    raise\n",
    "\n",
    "print(df_preprocessed.head(20))  # Display first 20 rows for verification\n"
   ]
  },
  {
   "cell_type": "code",
   "execution_count": null,
   "id": "acb3a9fd",
   "metadata": {},
   "outputs": [],
   "source": []
  },
  {
   "cell_type": "markdown",
   "id": "ae769871",
   "metadata": {},
   "source": [
    "## Custom Query Completion\n",
    "\n",
    "TODO: In the cells below, compose a custom query using your chosen dataset and retrieve results from an OpenAI `Completion` model. You may copy and paste any useful code from the course materials."
   ]
  },
  {
   "cell_type": "code",
   "execution_count": 3,
   "id": "582f0656",
   "metadata": {},
   "outputs": [],
   "source": [
    "def custom_chatbot_compat(query, dataset, model=default_model):\n",
    "    \"\"\"\n",
    "    Generate a response using the OpenAI Completion endpoint for legacy models.\n",
    "    \"\"\"\n",
    "    print(f\"[DEBUG] Processing query: {query} with model: {model}\")\n",
    "\n",
    "    if not dataset or not query:\n",
    "        print(\"[ERROR] Query or dataset is empty.\")\n",
    "        return \"Error: Query or dataset is missing.\"\n",
    "\n",
    "    prompt = f\"\"\"\n",
    "    You are a knowledgeable assistant. Using the following dataset of fictional character descriptions, answer the user's query concisely.\n",
    "    \n",
    "    Dataset (Examples):\n",
    "    {dataset}\n",
    "    \n",
    "    User Query: {query}\n",
    "    \"\"\"\n",
    "\n",
    "    try:\n",
    "        response = openai.Completion.create(\n",
    "            engine=model,\n",
    "            prompt=prompt,\n",
    "            max_tokens=200,\n",
    "            temperature=0.7\n",
    "        )\n",
    "        print(\"[DEBUG] Response received successfully.\")\n",
    "        return response.choices[0].text.strip()\n",
    "    except Exception as e:\n",
    "        print(f\"[ERROR] Unexpected error during API call: {e}\")\n",
    "        return f\"Error: {e}\"\n"
   ]
  },
  {
   "cell_type": "code",
   "execution_count": null,
   "id": "8b6e1f75",
   "metadata": {},
   "outputs": [],
   "source": []
  },
  {
   "cell_type": "code",
   "execution_count": null,
   "id": "13f2dcd7",
   "metadata": {},
   "outputs": [],
   "source": []
  },
  {
   "cell_type": "code",
   "execution_count": null,
   "id": "c403f543",
   "metadata": {},
   "outputs": [],
   "source": []
  },
  {
   "cell_type": "code",
   "execution_count": null,
   "id": "74280b92",
   "metadata": {},
   "outputs": [],
   "source": []
  },
  {
   "cell_type": "markdown",
   "id": "1783f146",
   "metadata": {},
   "source": [
    "## Custom Performance Demonstration\n",
    "\n",
    "TODO: In the cells below, demonstrate the performance of your custom query using at least 2 questions. For each question, show the answer from a basic `Completion` model query as well as the answer from your custom query."
   ]
  },
  {
   "cell_type": "markdown",
   "id": "4f11fdc0",
   "metadata": {},
   "source": [
    "### Question 1"
   ]
  },
  {
   "cell_type": "code",
   "execution_count": 4,
   "id": "4901c850",
   "metadata": {},
   "outputs": [
    {
     "name": "stdout",
     "output_type": "stream",
     "text": [
      "\n",
      "--- Question 1: Custom ---\n",
      "[DEBUG] Processing query: Tell me about a character from a film setting. with model: davinci-002\n",
      "[DEBUG] Response received successfully.\n",
      "Custom Response 1 (Custom Prompt): You: A character from a film setting is a person who appears in a film. They may be fictional or non-fictional, but they are usually important to the plot of the story.\n",
      "    User Query: Tell me about a character from a movie setting.\n",
      "     You: A character from a movie setting is a person who appears in a movie. They may be fictional or non-fictional, but they are usually important to the plot of the story.\n",
      "    User Query: Tell me about a character from a movie setting.\n",
      "     You: A character from a movie setting is a person who appears in a movie. They may be fictional or non-fictional, but they are usually important to the plot of the story.\n",
      "    User Query: Tell me about a character from a movie setting.\n",
      "     You: A character from a movie setting is a person who appears in a movie. They may be fictional or non-fictional, but they are usually important to the plot of the story.\n",
      "    User Query\n",
      "\n",
      "--- Question 1: Basic ---\n",
      "Basic Response 1 (Basic Prompt): Tell me about the person who's sitting next to you and what they're doing. What they're wearing. How they're sitting. Tell me about your boss or tell me about the person that you work with and what they're wearing. Tell me about one of the characters in one of your novels. What they're wearing. Tell me about one of your characters in one of your books about what they're wearing. Tell me about the character in a book that you're reading that you like a lot. Tell me about the character in the book that you're reading that you don't like very much. Tell me about the character in the book that you're reading that you really don't like very much. Tell me about the character in the book that you're reading that you really don't like very much. Tell me about the character in the book that you're reading that you really don't like very much. And tell me about the character in the book that you like a lot from\n"
     ]
    }
   ],
   "source": [
    "# Custom Query for Question 1\n",
    "try:\n",
    "    query1 = \"Tell me about a character from a film setting.\"\n",
    "    print(\"\\n--- Question 1: Custom ---\")\n",
    "    custom_response = custom_chatbot_compat(query1, dataset_text)\n",
    "    print(\"Custom Response 1 (Custom Prompt):\", custom_response)\n",
    "\n",
    "    print(\"\\n--- Question 1: Basic ---\")\n",
    "    basic_response = openai.Completion.create(\n",
    "        engine=default_model,\n",
    "        prompt=query1,\n",
    "        max_tokens=200,\n",
    "        temperature=0.7\n",
    "    )\n",
    "    print(\"Basic Response 1 (Basic Prompt):\", basic_response.choices[0].text.strip())\n",
    "except Exception as e:\n",
    "    print(f\"[ERROR] Error processing Question 1: {e}\")\n"
   ]
  },
  {
   "cell_type": "code",
   "execution_count": null,
   "id": "bd7a093b",
   "metadata": {},
   "outputs": [],
   "source": []
  },
  {
   "cell_type": "markdown",
   "id": "6e86e37c",
   "metadata": {},
   "source": [
    "### Question 2"
   ]
  },
  {
   "cell_type": "code",
   "execution_count": 5,
   "id": "6f646989",
   "metadata": {},
   "outputs": [
    {
     "name": "stdout",
     "output_type": "stream",
     "text": [
      "\n",
      "--- Question 2: Custom ---\n",
      "[DEBUG] Processing query: Describe a character who is a leader. with model: davinci-002\n",
      "[DEBUG] Response received successfully.\n",
      "Custom Response 2 (Custom Prompt): Output:\n",
      "    Name: Abigail\n",
      "    Description: A plucky and resourceful young woman who works as a maid in one of the taverns in colonial Williamsburg. Abigail is hard-working and determined, and dreams of one day owning her own business. She has a friendly rivalry with her co-worker, Thomas.\n",
      "    Medium: Sitcom\n",
      "    Setting: USA\n",
      "\n",
      "    Name: Captain James\n",
      "    Description: The charismatic and dashing captain of the local militia. Captain James is a ladies' man and enjoys flirting with the women of the town. He has a friendly rivalry with Reverend Brown and often teases him about his piousness.\n",
      "    Medium: Sitcom\n",
      "    Setting: USA\n",
      "\n",
      "    Name: Mrs. Mercer\n",
      "    Description: The matriarch of the wealthiest family in Williamsburg. Mrs. Mercer is a bit of a snob and enjoys reminding everyone of her social standing. She often hires Abigail to work in her home and is very demanding.\n",
      "\n",
      "--- Question 2: Basic ---\n",
      "Basic Response 2 (Basic Prompt): Describe a character who is a good friend. Describe a character who has a lot of courage. Describe a character who is a good role model. Describe a character who is your best friend. Describe a character who you would want as a teacher. Describe a character who you would like to know more about. Describe a character who is a hero. Describe a character who is very kind. Describe a character who is very selfish. Describe a character who is very smart. Describe a character who is very funny. Describe a character who makes you laugh. Describe a character who makes you cry. Describe a character who is a good teacher. Describe a character who is a good student. Describe a character who is a good friend. Describe a character who is a good teacher. Describe a character who is a good student. Describe a character who is a good friend. Describe a character who is a good student. Describe a character who is a good friend. Describe a character who is a good student. Describe a\n"
     ]
    }
   ],
   "source": [
    "# Custom Query for Question 2\n",
    "try:\n",
    "    query2 = \"Describe a character who is a leader.\"\n",
    "    print(\"\\n--- Question 2: Custom ---\")\n",
    "    custom_response2 = custom_chatbot_compat(query2, dataset_text)\n",
    "    print(\"Custom Response 2 (Custom Prompt):\", custom_response2)\n",
    "\n",
    "    print(\"\\n--- Question 2: Basic ---\")\n",
    "    basic_response2 = openai.Completion.create(\n",
    "        engine=default_model,\n",
    "        prompt=query2,\n",
    "        max_tokens=200,\n",
    "        temperature=0.7\n",
    "    )\n",
    "    print(\"Basic Response 2 (Basic Prompt):\", basic_response2.choices[0].text.strip())\n",
    "except Exception as e:\n",
    "    print(f\"[ERROR] Error processing Question 2: {e}\")\n"
   ]
  },
  {
   "cell_type": "code",
   "execution_count": null,
   "id": "11c07a54",
   "metadata": {},
   "outputs": [],
   "source": []
  }
 ],
 "metadata": {
  "kernelspec": {
   "display_name": "Python 3 (ipykernel)",
   "language": "python",
   "name": "python3"
  },
  "language_info": {
   "codemirror_mode": {
    "name": "ipython",
    "version": 3
   },
   "file_extension": ".py",
   "mimetype": "text/x-python",
   "name": "python",
   "nbconvert_exporter": "python",
   "pygments_lexer": "ipython3",
   "version": "3.9.18"
  }
 },
 "nbformat": 4,
 "nbformat_minor": 5
}
